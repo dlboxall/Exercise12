{
 "cells": [
  {
   "cell_type": "markdown",
   "id": "080ba773-4d2c-4e97-aeed-64e6f3f367f0",
   "metadata": {
    "tags": []
   },
   "source": [
    "# Data Science Tools and Ecosystem\n"
   ]
  },
  {
   "cell_type": "markdown",
   "id": "7dea2be6-9b24-488e-bbf6-816e2441bfe9",
   "metadata": {},
   "source": [
    "In this notebook, data science tools and ecosystem are summarized.\n"
   ]
  },
  {
   "cell_type": "markdown",
   "id": "8dcba2b9-3185-4b41-9ba6-b5a3c3d121ca",
   "metadata": {},
   "source": [
    "**Objectives:**"
   ]
  },
  {
   "cell_type": "markdown",
   "id": "f6eef629-dd43-4234-a5b4-1e3be64c96b3",
   "metadata": {
    "tags": []
   },
   "source": [
    "+ List popular languages used by Data Scientists\n",
    "+ List some of the commonly used libraries in Data Science\n",
    "+ Create a single column table with a header\n",
    "+ Complete arithmetic operations\n",
    "+ Use different level headings\n",
    "+ Change the font to bold face"
   ]
  },
  {
   "cell_type": "markdown",
   "id": "31826dbb-5096-4791-9b2f-f53eb1cbe3b5",
   "metadata": {},
   "source": [
    "Some of the popular languages used by Data Scientists are:"
   ]
  },
  {
   "cell_type": "markdown",
   "id": "5c9c160b-b556-4f38-9a39-11f44959a4b2",
   "metadata": {},
   "source": [
    "1. Python\n",
    "2. R\n",
    "3. Scala\n",
    "4. Julia"
   ]
  },
  {
   "cell_type": "markdown",
   "id": "7ac1e884-3737-4aa0-ac90-8cec42794b0b",
   "metadata": {},
   "source": [
    "Some of the commonly used libraries used by Data Scientists include:"
   ]
  },
  {
   "cell_type": "markdown",
   "id": "87131bc0-c3cf-4a10-b5b5-1d64a8e99562",
   "metadata": {},
   "source": [
    "1. Pandas\n",
    "2. NumPy\n",
    "3. Scikit-learn\n",
    "4. TensorFlow"
   ]
  },
  {
   "cell_type": "markdown",
   "id": "ed8ac79e-658b-403c-ab9c-0a2095593b7f",
   "metadata": {},
   "source": [
    "|Data Science Tools|\n",
    "|------|\n",
    "|Jupyter Notebook|\n",
    "|RStudio|\n",
    "|Spyder|"
   ]
  },
  {
   "cell_type": "markdown",
   "id": "66c11c57-8ceb-411c-a600-e9e4e200c09a",
   "metadata": {},
   "source": [
    "### Below are a few examples of evaluating arithmetic expressions in Python:"
   ]
  },
  {
   "cell_type": "code",
   "execution_count": 5,
   "id": "42de1011-1b01-4e62-8f4a-3c2b271695d8",
   "metadata": {
    "tags": []
   },
   "outputs": [
    {
     "data": {
      "text/plain": [
       "17"
      ]
     },
     "execution_count": 5,
     "metadata": {},
     "output_type": "execute_result"
    }
   ],
   "source": [
    "# This is a simple arithmetic expression to multiply then add integers\n",
    "(3*4)+5"
   ]
  },
  {
   "cell_type": "code",
   "execution_count": 6,
   "id": "82c18dba-da10-4086-a0cf-a8ee07f20499",
   "metadata": {
    "tags": []
   },
   "outputs": [
    {
     "data": {
      "text/plain": [
       "3.3333333333333335"
      ]
     },
     "execution_count": 6,
     "metadata": {},
     "output_type": "execute_result"
    }
   ],
   "source": [
    "# This will convert 200 minutes to hours by dividing by 60\n",
    "200/60"
   ]
  },
  {
   "cell_type": "markdown",
   "id": "8e1f3e49-b2e7-4aff-aaed-f7706161d4b9",
   "metadata": {},
   "source": [
    "## Author:\n",
    "Deborah Boxall"
   ]
  },
  {
   "cell_type": "code",
   "execution_count": null,
   "id": "e75bef3d-138b-47dc-a1af-779ee7239d6a",
   "metadata": {},
   "outputs": [],
   "source": []
  }
 ],
 "metadata": {
  "kernelspec": {
   "display_name": "Python",
   "language": "python",
   "name": "conda-env-python-py"
  },
  "language_info": {
   "codemirror_mode": {
    "name": "ipython",
    "version": 3
   },
   "file_extension": ".py",
   "mimetype": "text/x-python",
   "name": "python",
   "nbconvert_exporter": "python",
   "pygments_lexer": "ipython3",
   "version": "3.7.12"
  }
 },
 "nbformat": 4,
 "nbformat_minor": 5
}
